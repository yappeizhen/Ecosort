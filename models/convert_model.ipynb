{
 "cells": [
  {
   "cell_type": "markdown",
   "metadata": {},
   "source": [
    "## Convert Tensorflow Model to TFJS"
   ]
  },
  {
   "cell_type": "code",
   "execution_count": 5,
   "metadata": {},
   "outputs": [
    {
     "name": "stdout",
     "output_type": "stream",
     "text": [
      "Requirement already satisfied: ipykernel in /Users/yappeizhen/.pyenv/versions/3.9.7/lib/python3.9/site-packages (6.29.4)\n",
      "Requirement already satisfied: tensorflowjs in /Users/yappeizhen/.pyenv/versions/3.9.7/lib/python3.9/site-packages (4.17.0)\n",
      "Requirement already satisfied: nest-asyncio in /Users/yappeizhen/.pyenv/versions/3.9.7/lib/python3.9/site-packages (from ipykernel) (1.6.0)\n",
      "Requirement already satisfied: comm>=0.1.1 in /Users/yappeizhen/.pyenv/versions/3.9.7/lib/python3.9/site-packages (from ipykernel) (0.2.2)\n",
      "Requirement already satisfied: appnope in /Users/yappeizhen/.pyenv/versions/3.9.7/lib/python3.9/site-packages (from ipykernel) (0.1.4)\n",
      "Requirement already satisfied: debugpy>=1.6.5 in /Users/yappeizhen/.pyenv/versions/3.9.7/lib/python3.9/site-packages (from ipykernel) (1.8.1)\n",
      "Requirement already satisfied: matplotlib-inline>=0.1 in /Users/yappeizhen/.pyenv/versions/3.9.7/lib/python3.9/site-packages (from ipykernel) (0.1.6)\n",
      "Requirement already satisfied: pyzmq>=24 in /Users/yappeizhen/.pyenv/versions/3.9.7/lib/python3.9/site-packages (from ipykernel) (25.1.2)\n",
      "Requirement already satisfied: traitlets>=5.4.0 in /Users/yappeizhen/.pyenv/versions/3.9.7/lib/python3.9/site-packages (from ipykernel) (5.14.2)\n",
      "Requirement already satisfied: tornado>=6.1 in /Users/yappeizhen/.pyenv/versions/3.9.7/lib/python3.9/site-packages (from ipykernel) (6.4)\n",
      "Requirement already satisfied: ipython>=7.23.1 in /Users/yappeizhen/.pyenv/versions/3.9.7/lib/python3.9/site-packages (from ipykernel) (8.18.1)\n",
      "Requirement already satisfied: jupyter-client>=6.1.12 in /Users/yappeizhen/.pyenv/versions/3.9.7/lib/python3.9/site-packages (from ipykernel) (8.6.1)\n",
      "Requirement already satisfied: packaging in /Users/yappeizhen/.pyenv/versions/3.9.7/lib/python3.9/site-packages (from ipykernel) (23.2)\n",
      "Requirement already satisfied: psutil in /Users/yappeizhen/.pyenv/versions/3.9.7/lib/python3.9/site-packages (from ipykernel) (5.9.8)\n",
      "Requirement already satisfied: jupyter-core!=5.0.*,>=4.12 in /Users/yappeizhen/.pyenv/versions/3.9.7/lib/python3.9/site-packages (from ipykernel) (5.7.2)\n",
      "Requirement already satisfied: six<2,>=1.16.0 in /Users/yappeizhen/.pyenv/versions/3.9.7/lib/python3.9/site-packages (from tensorflowjs) (1.16.0)\n",
      "Requirement already satisfied: importlib_resources>=5.9.0 in /Users/yappeizhen/.pyenv/versions/3.9.7/lib/python3.9/site-packages (from tensorflowjs) (6.4.0)\n",
      "Requirement already satisfied: jax>=0.4.13 in /Users/yappeizhen/.pyenv/versions/3.9.7/lib/python3.9/site-packages (from tensorflowjs) (0.4.26)\n",
      "Requirement already satisfied: jaxlib>=0.4.13 in /Users/yappeizhen/.pyenv/versions/3.9.7/lib/python3.9/site-packages (from tensorflowjs) (0.4.26)\n",
      "Requirement already satisfied: tensorflow-hub>=0.14.0 in /Users/yappeizhen/.pyenv/versions/3.9.7/lib/python3.9/site-packages (from tensorflowjs) (0.16.1)\n",
      "Requirement already satisfied: tensorflow<3,>=2.13.0 in /Users/yappeizhen/.pyenv/versions/3.9.7/lib/python3.9/site-packages (from tensorflowjs) (2.16.1)\n",
      "Requirement already satisfied: flax>=0.7.2 in /Users/yappeizhen/.pyenv/versions/3.9.7/lib/python3.9/site-packages (from tensorflowjs) (0.8.2)\n",
      "Requirement already satisfied: tensorflow-decision-forests>=1.5.0 in /Users/yappeizhen/.pyenv/versions/3.9.7/lib/python3.9/site-packages (from tensorflowjs) (1.9.0)\n",
      "Requirement already satisfied: PyYAML>=5.4.1 in /Users/yappeizhen/.pyenv/versions/3.9.7/lib/python3.9/site-packages (from flax>=0.7.2->tensorflowjs) (6.0.1)\n",
      "Requirement already satisfied: msgpack in /Users/yappeizhen/.pyenv/versions/3.9.7/lib/python3.9/site-packages (from flax>=0.7.2->tensorflowjs) (1.0.8)\n",
      "Requirement already satisfied: numpy>=1.22 in /Users/yappeizhen/.pyenv/versions/3.9.7/lib/python3.9/site-packages (from flax>=0.7.2->tensorflowjs) (1.26.4)\n",
      "Requirement already satisfied: orbax-checkpoint in /Users/yappeizhen/.pyenv/versions/3.9.7/lib/python3.9/site-packages (from flax>=0.7.2->tensorflowjs) (0.5.9)\n",
      "Requirement already satisfied: optax in /Users/yappeizhen/.pyenv/versions/3.9.7/lib/python3.9/site-packages (from flax>=0.7.2->tensorflowjs) (0.2.2)\n",
      "Requirement already satisfied: typing-extensions>=4.2 in /Users/yappeizhen/.pyenv/versions/3.9.7/lib/python3.9/site-packages (from flax>=0.7.2->tensorflowjs) (4.11.0)\n",
      "Requirement already satisfied: rich>=11.1 in /Users/yappeizhen/.pyenv/versions/3.9.7/lib/python3.9/site-packages (from flax>=0.7.2->tensorflowjs) (13.7.1)\n",
      "Requirement already satisfied: tensorstore in /Users/yappeizhen/.pyenv/versions/3.9.7/lib/python3.9/site-packages (from flax>=0.7.2->tensorflowjs) (0.1.56)\n",
      "Requirement already satisfied: zipp>=3.1.0 in /Users/yappeizhen/.pyenv/versions/3.9.7/lib/python3.9/site-packages (from importlib_resources>=5.9.0->tensorflowjs) (3.18.1)\n",
      "Requirement already satisfied: jedi>=0.16 in /Users/yappeizhen/.pyenv/versions/3.9.7/lib/python3.9/site-packages (from ipython>=7.23.1->ipykernel) (0.19.1)\n",
      "Requirement already satisfied: prompt-toolkit<3.1.0,>=3.0.41 in /Users/yappeizhen/.pyenv/versions/3.9.7/lib/python3.9/site-packages (from ipython>=7.23.1->ipykernel) (3.0.43)\n",
      "Requirement already satisfied: exceptiongroup in /Users/yappeizhen/.pyenv/versions/3.9.7/lib/python3.9/site-packages (from ipython>=7.23.1->ipykernel) (1.2.0)\n",
      "Requirement already satisfied: pygments>=2.4.0 in /Users/yappeizhen/.pyenv/versions/3.9.7/lib/python3.9/site-packages (from ipython>=7.23.1->ipykernel) (2.17.2)\n",
      "Requirement already satisfied: stack-data in /Users/yappeizhen/.pyenv/versions/3.9.7/lib/python3.9/site-packages (from ipython>=7.23.1->ipykernel) (0.6.3)\n",
      "Requirement already satisfied: pexpect>4.3 in /Users/yappeizhen/.pyenv/versions/3.9.7/lib/python3.9/site-packages (from ipython>=7.23.1->ipykernel) (4.9.0)\n",
      "Requirement already satisfied: decorator in /Users/yappeizhen/.pyenv/versions/3.9.7/lib/python3.9/site-packages (from ipython>=7.23.1->ipykernel) (5.1.1)\n",
      "Requirement already satisfied: scipy>=1.9 in /Users/yappeizhen/.pyenv/versions/3.9.7/lib/python3.9/site-packages (from jax>=0.4.13->tensorflowjs) (1.13.0)\n",
      "Requirement already satisfied: ml-dtypes>=0.2.0 in /Users/yappeizhen/.pyenv/versions/3.9.7/lib/python3.9/site-packages (from jax>=0.4.13->tensorflowjs) (0.3.2)\n",
      "Requirement already satisfied: opt-einsum in /Users/yappeizhen/.pyenv/versions/3.9.7/lib/python3.9/site-packages (from jax>=0.4.13->tensorflowjs) (3.3.0)\n",
      "Requirement already satisfied: importlib-metadata>=4.6 in /Users/yappeizhen/.pyenv/versions/3.9.7/lib/python3.9/site-packages (from jax>=0.4.13->tensorflowjs) (7.1.0)\n",
      "Requirement already satisfied: parso<0.9.0,>=0.8.3 in /Users/yappeizhen/.pyenv/versions/3.9.7/lib/python3.9/site-packages (from jedi>=0.16->ipython>=7.23.1->ipykernel) (0.8.4)\n",
      "Requirement already satisfied: python-dateutil>=2.8.2 in /Users/yappeizhen/.pyenv/versions/3.9.7/lib/python3.9/site-packages (from jupyter-client>=6.1.12->ipykernel) (2.9.0.post0)\n",
      "Requirement already satisfied: platformdirs>=2.5 in /Users/yappeizhen/.pyenv/versions/3.9.7/lib/python3.9/site-packages (from jupyter-core!=5.0.*,>=4.12->ipykernel) (4.2.0)\n",
      "Requirement already satisfied: ptyprocess>=0.5 in /Users/yappeizhen/.pyenv/versions/3.9.7/lib/python3.9/site-packages (from pexpect>4.3->ipython>=7.23.1->ipykernel) (0.7.0)\n",
      "Requirement already satisfied: wcwidth in /Users/yappeizhen/.pyenv/versions/3.9.7/lib/python3.9/site-packages (from prompt-toolkit<3.1.0,>=3.0.41->ipython>=7.23.1->ipykernel) (0.2.13)\n",
      "Requirement already satisfied: markdown-it-py>=2.2.0 in /Users/yappeizhen/.pyenv/versions/3.9.7/lib/python3.9/site-packages (from rich>=11.1->flax>=0.7.2->tensorflowjs) (3.0.0)\n",
      "Requirement already satisfied: mdurl~=0.1 in /Users/yappeizhen/.pyenv/versions/3.9.7/lib/python3.9/site-packages (from markdown-it-py>=2.2.0->rich>=11.1->flax>=0.7.2->tensorflowjs) (0.1.2)\n",
      "Requirement already satisfied: tensorboard<2.17,>=2.16 in /Users/yappeizhen/.pyenv/versions/3.9.7/lib/python3.9/site-packages (from tensorflow<3,>=2.13.0->tensorflowjs) (2.16.2)\n",
      "Requirement already satisfied: flatbuffers>=23.5.26 in /Users/yappeizhen/.pyenv/versions/3.9.7/lib/python3.9/site-packages (from tensorflow<3,>=2.13.0->tensorflowjs) (24.3.25)\n",
      "Requirement already satisfied: protobuf!=4.21.0,!=4.21.1,!=4.21.2,!=4.21.3,!=4.21.4,!=4.21.5,<5.0.0dev,>=3.20.3 in /Users/yappeizhen/.pyenv/versions/3.9.7/lib/python3.9/site-packages (from tensorflow<3,>=2.13.0->tensorflowjs) (4.25.3)\n",
      "Requirement already satisfied: libclang>=13.0.0 in /Users/yappeizhen/.pyenv/versions/3.9.7/lib/python3.9/site-packages (from tensorflow<3,>=2.13.0->tensorflowjs) (18.1.1)\n",
      "Requirement already satisfied: requests<3,>=2.21.0 in /Users/yappeizhen/.pyenv/versions/3.9.7/lib/python3.9/site-packages (from tensorflow<3,>=2.13.0->tensorflowjs) (2.31.0)\n",
      "Requirement already satisfied: h5py>=3.10.0 in /Users/yappeizhen/.pyenv/versions/3.9.7/lib/python3.9/site-packages (from tensorflow<3,>=2.13.0->tensorflowjs) (3.11.0)\n",
      "Requirement already satisfied: absl-py>=1.0.0 in /Users/yappeizhen/.pyenv/versions/3.9.7/lib/python3.9/site-packages (from tensorflow<3,>=2.13.0->tensorflowjs) (2.1.0)\n",
      "Requirement already satisfied: astunparse>=1.6.0 in /Users/yappeizhen/.pyenv/versions/3.9.7/lib/python3.9/site-packages (from tensorflow<3,>=2.13.0->tensorflowjs) (1.6.3)\n",
      "Requirement already satisfied: wrapt>=1.11.0 in /Users/yappeizhen/.pyenv/versions/3.9.7/lib/python3.9/site-packages (from tensorflow<3,>=2.13.0->tensorflowjs) (1.16.0)\n",
      "Requirement already satisfied: setuptools in /Users/yappeizhen/.pyenv/versions/3.9.7/lib/python3.9/site-packages (from tensorflow<3,>=2.13.0->tensorflowjs) (57.4.0)\n",
      "Requirement already satisfied: tensorflow-io-gcs-filesystem>=0.23.1 in /Users/yappeizhen/.pyenv/versions/3.9.7/lib/python3.9/site-packages (from tensorflow<3,>=2.13.0->tensorflowjs) (0.36.0)\n",
      "Requirement already satisfied: keras>=3.0.0 in /Users/yappeizhen/.pyenv/versions/3.9.7/lib/python3.9/site-packages (from tensorflow<3,>=2.13.0->tensorflowjs) (3.2.1)\n",
      "Requirement already satisfied: termcolor>=1.1.0 in /Users/yappeizhen/.pyenv/versions/3.9.7/lib/python3.9/site-packages (from tensorflow<3,>=2.13.0->tensorflowjs) (2.4.0)\n",
      "Requirement already satisfied: google-pasta>=0.1.1 in /Users/yappeizhen/.pyenv/versions/3.9.7/lib/python3.9/site-packages (from tensorflow<3,>=2.13.0->tensorflowjs) (0.2.0)\n",
      "Requirement already satisfied: grpcio<2.0,>=1.24.3 in /Users/yappeizhen/.pyenv/versions/3.9.7/lib/python3.9/site-packages (from tensorflow<3,>=2.13.0->tensorflowjs) (1.62.1)\n",
      "Requirement already satisfied: gast!=0.5.0,!=0.5.1,!=0.5.2,>=0.2.1 in /Users/yappeizhen/.pyenv/versions/3.9.7/lib/python3.9/site-packages (from tensorflow<3,>=2.13.0->tensorflowjs) (0.5.4)\n",
      "Requirement already satisfied: wheel<1.0,>=0.23.0 in /Users/yappeizhen/.pyenv/versions/3.9.7/lib/python3.9/site-packages (from astunparse>=1.6.0->tensorflow<3,>=2.13.0->tensorflowjs) (0.43.0)\n",
      "Requirement already satisfied: optree in /Users/yappeizhen/.pyenv/versions/3.9.7/lib/python3.9/site-packages (from keras>=3.0.0->tensorflow<3,>=2.13.0->tensorflowjs) (0.11.0)\n",
      "Requirement already satisfied: namex in /Users/yappeizhen/.pyenv/versions/3.9.7/lib/python3.9/site-packages (from keras>=3.0.0->tensorflow<3,>=2.13.0->tensorflowjs) (0.0.8)\n",
      "Requirement already satisfied: charset-normalizer<4,>=2 in /Users/yappeizhen/.pyenv/versions/3.9.7/lib/python3.9/site-packages (from requests<3,>=2.21.0->tensorflow<3,>=2.13.0->tensorflowjs) (3.3.2)\n",
      "Requirement already satisfied: idna<4,>=2.5 in /Users/yappeizhen/.pyenv/versions/3.9.7/lib/python3.9/site-packages (from requests<3,>=2.21.0->tensorflow<3,>=2.13.0->tensorflowjs) (3.7)\n",
      "Requirement already satisfied: certifi>=2017.4.17 in /Users/yappeizhen/.pyenv/versions/3.9.7/lib/python3.9/site-packages (from requests<3,>=2.21.0->tensorflow<3,>=2.13.0->tensorflowjs) (2024.2.2)\n",
      "Requirement already satisfied: urllib3<3,>=1.21.1 in /Users/yappeizhen/.pyenv/versions/3.9.7/lib/python3.9/site-packages (from requests<3,>=2.21.0->tensorflow<3,>=2.13.0->tensorflowjs) (2.2.1)\n",
      "Requirement already satisfied: markdown>=2.6.8 in /Users/yappeizhen/.pyenv/versions/3.9.7/lib/python3.9/site-packages (from tensorboard<2.17,>=2.16->tensorflow<3,>=2.13.0->tensorflowjs) (3.6)\n",
      "Requirement already satisfied: tensorboard-data-server<0.8.0,>=0.7.0 in /Users/yappeizhen/.pyenv/versions/3.9.7/lib/python3.9/site-packages (from tensorboard<2.17,>=2.16->tensorflow<3,>=2.13.0->tensorflowjs) (0.7.2)\n",
      "Requirement already satisfied: werkzeug>=1.0.1 in /Users/yappeizhen/.pyenv/versions/3.9.7/lib/python3.9/site-packages (from tensorboard<2.17,>=2.16->tensorflow<3,>=2.13.0->tensorflowjs) (3.0.2)\n",
      "Requirement already satisfied: tf-keras~=2.16 in /Users/yappeizhen/.pyenv/versions/3.9.7/lib/python3.9/site-packages (from tensorflow-decision-forests>=1.5.0->tensorflowjs) (2.16.0)\n",
      "Requirement already satisfied: pandas in /Users/yappeizhen/.pyenv/versions/3.9.7/lib/python3.9/site-packages (from tensorflow-decision-forests>=1.5.0->tensorflowjs) (2.2.2)\n",
      "Requirement already satisfied: wurlitzer in /Users/yappeizhen/.pyenv/versions/3.9.7/lib/python3.9/site-packages (from tensorflow-decision-forests>=1.5.0->tensorflowjs) (3.0.3)\n",
      "Requirement already satisfied: MarkupSafe>=2.1.1 in /Users/yappeizhen/.pyenv/versions/3.9.7/lib/python3.9/site-packages (from werkzeug>=1.0.1->tensorboard<2.17,>=2.16->tensorflow<3,>=2.13.0->tensorflowjs) (2.1.5)\n",
      "Requirement already satisfied: chex>=0.1.86 in /Users/yappeizhen/.pyenv/versions/3.9.7/lib/python3.9/site-packages (from optax->flax>=0.7.2->tensorflowjs) (0.1.86)\n",
      "Requirement already satisfied: toolz>=0.9.0 in /Users/yappeizhen/.pyenv/versions/3.9.7/lib/python3.9/site-packages (from chex>=0.1.86->optax->flax>=0.7.2->tensorflowjs) (0.12.1)\n",
      "Requirement already satisfied: etils[epath,epy] in /Users/yappeizhen/.pyenv/versions/3.9.7/lib/python3.9/site-packages (from orbax-checkpoint->flax>=0.7.2->tensorflowjs) (1.5.2)\n",
      "Requirement already satisfied: fsspec in /Users/yappeizhen/.pyenv/versions/3.9.7/lib/python3.9/site-packages (from etils[epath,epy]->orbax-checkpoint->flax>=0.7.2->tensorflowjs) (2024.3.1)\n",
      "Requirement already satisfied: pytz>=2020.1 in /Users/yappeizhen/.pyenv/versions/3.9.7/lib/python3.9/site-packages (from pandas->tensorflow-decision-forests>=1.5.0->tensorflowjs) (2024.1)\n",
      "Requirement already satisfied: tzdata>=2022.7 in /Users/yappeizhen/.pyenv/versions/3.9.7/lib/python3.9/site-packages (from pandas->tensorflow-decision-forests>=1.5.0->tensorflowjs) (2024.1)\n",
      "Requirement already satisfied: executing>=1.2.0 in /Users/yappeizhen/.pyenv/versions/3.9.7/lib/python3.9/site-packages (from stack-data->ipython>=7.23.1->ipykernel) (2.0.1)\n",
      "Requirement already satisfied: pure-eval in /Users/yappeizhen/.pyenv/versions/3.9.7/lib/python3.9/site-packages (from stack-data->ipython>=7.23.1->ipykernel) (0.2.2)\n",
      "Requirement already satisfied: asttokens>=2.1.0 in /Users/yappeizhen/.pyenv/versions/3.9.7/lib/python3.9/site-packages (from stack-data->ipython>=7.23.1->ipykernel) (2.4.1)\n",
      "\u001b[33mWARNING: You are using pip version 21.2.3; however, version 24.0 is available.\n",
      "You should consider upgrading via the '/Users/yappeizhen/.pyenv/versions/3.9.7/bin/python -m pip install --upgrade pip' command.\u001b[0m\n",
      "Note: you may need to restart the kernel to use updated packages.\n"
     ]
    }
   ],
   "source": [
    "%pip install ipykernel tensorflowjs"
   ]
  },
  {
   "cell_type": "code",
   "execution_count": 6,
   "metadata": {},
   "outputs": [],
   "source": [
    "!tensorflowjs_converter --input_format=tf_saved_model \\\n",
    "                       --output_format=tfjs_graph_model \\\n",
    "                       /Users/yappeizhen/Desktop/IS4242/Ecosort/models/tf_saved_model/saved_model \\\n",
    "                       /Users/yappeizhen/Desktop/IS4242/Ecosort/models/tfjs_model"
   ]
  },
  {
   "cell_type": "code",
   "execution_count": null,
   "metadata": {},
   "outputs": [],
   "source": []
  }
 ],
 "metadata": {
  "kernelspec": {
   "display_name": "Python 3",
   "language": "python",
   "name": "python3"
  },
  "language_info": {
   "codemirror_mode": {
    "name": "ipython",
    "version": 3
   },
   "file_extension": ".py",
   "mimetype": "text/x-python",
   "name": "python",
   "nbconvert_exporter": "python",
   "pygments_lexer": "ipython3",
   "version": "3.9.7"
  }
 },
 "nbformat": 4,
 "nbformat_minor": 2
}
