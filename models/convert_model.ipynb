{
 "cells": [
  {
   "cell_type": "code",
   "execution_count": 6,
   "metadata": {},
   "outputs": [
    {
     "name": "stdout",
     "output_type": "stream",
     "text": [
      "Traceback (most recent call last):\n",
      "  File \"/Users/yappeizhen/Desktop/IS4242/Trash_Detection/venv/bin/tensorflowjs_converter\", line 8, in <module>\n",
      "    sys.exit(pip_main())\n",
      "  File \"/Users/yappeizhen/Desktop/IS4242/Trash_Detection/venv/lib/python3.9/site-packages/tensorflowjs/converters/converter.py\", line 958, in pip_main\n",
      "    main([' '.join(sys.argv[1:])])\n",
      "  File \"/Users/yappeizhen/Desktop/IS4242/Trash_Detection/venv/lib/python3.9/site-packages/tensorflowjs/converters/converter.py\", line 962, in main\n",
      "    convert(argv[0].split(' '))\n",
      "  File \"/Users/yappeizhen/Desktop/IS4242/Trash_Detection/venv/lib/python3.9/site-packages/tensorflowjs/converters/converter.py\", line 948, in convert\n",
      "    _dispatch_converter(input_format, output_format, args, quantization_dtype_map,\n",
      "  File \"/Users/yappeizhen/Desktop/IS4242/Trash_Detection/venv/lib/python3.9/site-packages/tensorflowjs/converters/converter.py\", line 654, in _dispatch_converter\n",
      "    tf_saved_model_conversion_v2.convert_tf_saved_model(\n",
      "  File \"/Users/yappeizhen/Desktop/IS4242/Trash_Detection/venv/lib/python3.9/site-packages/tensorflowjs/converters/tf_saved_model_conversion_v2.py\", line 982, in convert_tf_saved_model\n",
      "    _convert_tf_saved_model(output_dir, saved_model_dir=saved_model_dir,\n",
      "  File \"/Users/yappeizhen/Desktop/IS4242/Trash_Detection/venv/lib/python3.9/site-packages/tensorflowjs/converters/tf_saved_model_conversion_v2.py\", line 757, in _convert_tf_saved_model\n",
      "    saved_model_sigature = _find_signature(saved_model_dir, saved_model_tags,\n",
      "  File \"/Users/yappeizhen/Desktop/IS4242/Trash_Detection/venv/lib/python3.9/site-packages/tensorflowjs/converters/tf_saved_model_conversion_v2.py\", line 589, in _find_signature\n",
      "    meta_graph = get_meta_graph_def(saved_model_dir, saved_model_tags)\n",
      "  File \"/Users/yappeizhen/Desktop/IS4242/Trash_Detection/venv/lib/python3.9/site-packages/tensorflow/python/tools/saved_model_utils.py\", line 113, in get_meta_graph_def\n",
      "    saved_model = read_saved_model(saved_model_dir)\n",
      "  File \"/Users/yappeizhen/Desktop/IS4242/Trash_Detection/venv/lib/python3.9/site-packages/tensorflow/python/tools/saved_model_utils.py\", line 51, in read_saved_model\n",
      "    raise IOError(\"SavedModel file does not exist at: %s\" % saved_model_dir)\n",
      "OSError: SavedModel file does not exist at: /Users/yappeizhen/Desktop/IS4242/Trash_Detection/content/saved_model\n"
     ]
    }
   ],
   "source": [
    "!tensorflowjs_converter --input_format=tf_saved_model \\\n",
    "                       --output_format=tfjs_graph_model \\\n",
    "                       /Users/yappeizhen/Desktop/IS4242/Trash_Detection/content/saved_model \\\n",
    "                       /Users/yappeizhen/Desktop/IS4242/Trash_Detection/output"
   ]
  }
 ],
 "metadata": {
  "kernelspec": {
   "display_name": "Python 3",
   "language": "python",
   "name": "python3"
  },
  "language_info": {
   "codemirror_mode": {
    "name": "ipython",
    "version": 3
   },
   "file_extension": ".py",
   "mimetype": "text/x-python",
   "name": "python",
   "nbconvert_exporter": "python",
   "pygments_lexer": "ipython3",
   "version": "3.9.7"
  }
 },
 "nbformat": 4,
 "nbformat_minor": 2
}
